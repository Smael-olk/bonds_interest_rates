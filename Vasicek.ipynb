{
 "cells": [
  {
   "cell_type": "markdown",
   "metadata": {},
   "source": [
    "## Bonds and Interest rates\n",
    "Ismael Oulkhir\n",
    "\n",
    "\n",
    "Mail: oulkhir.ismael@gmail.com\n",
    "\n",
    "LinkedIn: https://www.linkedin.com/in/ismail-oulkhir/\n"
   ]
  },
  {
   "cell_type": "code",
   "execution_count": 4,
   "metadata": {},
   "outputs": [],
   "source": [
    "import numpy as np \n",
    "from numpy.random import normal\n",
    "from scipy.stats import norm, gaussian_kde\n",
    "import pandas as pd \n",
    "import plotly.graph_objects as go"
   ]
  },
  {
   "cell_type": "markdown",
   "metadata": {},
   "source": [
    "\n",
    "## Varsicek Model\n",
    "The Varsicek model is a model with : \n",
    "- Linear dynamics : drift is linear in r and that σ is constant as a function of r \n",
    "- Mean reversion capacity i.e the short rate has a tendency to revert to some long-term (possibly time-dependent) mean.\n",
    "\n",
    "\n",
    "\\begin{equation*}\n",
    "dr_t = (b -ar_t )\\, dt + \\sigma dW_t , (a>0)\n",
    "\\end{equation*}\n",
    "\n",
    "\n",
    "\n",
    "Where:\n",
    "- $ r_t $ is the short rate at time $ t $,\n",
    "- $ \\sigma $ is the variance  at time $ t $,\n",
    "- $ (b -ar_t ) $ is the drift rate of the short rate,"
   ]
  },
  {
   "cell_type": "code",
   "execution_count": 6,
   "metadata": {},
   "outputs": [],
   "source": [
    "# Varsicek Model \n",
    "def varsicek(r0,a,b,T,sigma, paths):\n",
    "\n",
    "    steps = round(252*T)\n",
    "    dt = 1/steps\n",
    "    r = np.zeros((steps+1, paths))\n",
    "    r[0] = r0\n",
    "    for t in range(1, 1+steps):\n",
    "        dW_S = normal(0, np.sqrt(dt), paths)\n",
    "        r[t] = r[t-1] + (b-a*r[t-1])*dt + sigma*dW_S\n",
    "\n",
    "    return r"
   ]
  },
  {
   "cell_type": "code",
   "execution_count": 7,
   "metadata": {},
   "outputs": [],
   "source": [
    "# Brownian Motion\n",
    "def BM(r0,a,b,T,sigma, paths):\n",
    "    steps = round(252*T)\n",
    "    dt = 1/steps\n",
    "    r = np.zeros((steps+1, paths))\n",
    "    r[0] = r0\n",
    "\n",
    "    for t in range(1,steps+1):\n",
    "        dW = normal(0, np.sqrt(dt), paths)\n",
    "        r[t] = r[t-1] + b/a* dt+ sigma * r[t-1] * dW\n",
    "    return r"
   ]
  },
  {
   "cell_type": "code",
   "execution_count": 8,
   "metadata": {},
   "outputs": [
    {
     "ename": "ValueError",
     "evalue": "Mime type rendering requires nbformat>=4.2.0 but it is not installed",
     "output_type": "error",
     "traceback": [
      "\u001b[1;31m---------------------------------------------------------------------------\u001b[0m",
      "\u001b[1;31mValueError\u001b[0m                                Traceback (most recent call last)",
      "Cell \u001b[1;32mIn[8], line 36\u001b[0m\n\u001b[0;32m     24\u001b[0m     fig_varsicek\u001b[38;5;241m.\u001b[39madd_trace(go\u001b[38;5;241m.\u001b[39mScatter(\n\u001b[0;32m     25\u001b[0m         x\u001b[38;5;241m=\u001b[39mtime,\n\u001b[0;32m     26\u001b[0m         y\u001b[38;5;241m=\u001b[39mr_varsicek[:, i],\n\u001b[0;32m     27\u001b[0m         mode\u001b[38;5;241m=\u001b[39m\u001b[38;5;124m'\u001b[39m\u001b[38;5;124mlines\u001b[39m\u001b[38;5;124m'\u001b[39m,\n\u001b[0;32m     28\u001b[0m         name\u001b[38;5;241m=\u001b[39m\u001b[38;5;124mf\u001b[39m\u001b[38;5;124m'\u001b[39m\u001b[38;5;124mPath \u001b[39m\u001b[38;5;132;01m{\u001b[39;00mi\u001b[38;5;241m+\u001b[39m\u001b[38;5;241m1\u001b[39m\u001b[38;5;132;01m}\u001b[39;00m\u001b[38;5;124m'\u001b[39m\n\u001b[0;32m     29\u001b[0m     ))\n\u001b[0;32m     30\u001b[0m fig_varsicek\u001b[38;5;241m.\u001b[39mupdate_layout(\n\u001b[0;32m     31\u001b[0m     title\u001b[38;5;241m=\u001b[39m\u001b[38;5;124m'\u001b[39m\u001b[38;5;124mVasicek Model: Simulated Interest Rate Paths\u001b[39m\u001b[38;5;124m'\u001b[39m,\n\u001b[0;32m     32\u001b[0m     xaxis_title\u001b[38;5;241m=\u001b[39m\u001b[38;5;124m'\u001b[39m\u001b[38;5;124mTime (Years)\u001b[39m\u001b[38;5;124m'\u001b[39m,\n\u001b[0;32m     33\u001b[0m     yaxis_title\u001b[38;5;241m=\u001b[39m\u001b[38;5;124m'\u001b[39m\u001b[38;5;124mInterest Rate\u001b[39m\u001b[38;5;124m'\u001b[39m,\n\u001b[0;32m     34\u001b[0m     showlegend\u001b[38;5;241m=\u001b[39m\u001b[38;5;28;01mTrue\u001b[39;00m\n\u001b[0;32m     35\u001b[0m )\n\u001b[1;32m---> 36\u001b[0m \u001b[43mfig_varsicek\u001b[49m\u001b[38;5;241;43m.\u001b[39;49m\u001b[43mshow\u001b[49m\u001b[43m(\u001b[49m\u001b[43m)\u001b[49m\n\u001b[0;32m     38\u001b[0m \u001b[38;5;66;03m# Plot GBM\u001b[39;00m\n\u001b[0;32m     39\u001b[0m fig_gbm \u001b[38;5;241m=\u001b[39m go\u001b[38;5;241m.\u001b[39mFigure()\n",
      "File \u001b[1;32mc:\\Users\\Study.LEON\\AppData\\Local\\Programs\\Python\\Python313\\Lib\\site-packages\\plotly\\basedatatypes.py:3410\u001b[0m, in \u001b[0;36mBaseFigure.show\u001b[1;34m(self, *args, **kwargs)\u001b[0m\n\u001b[0;32m   3377\u001b[0m \u001b[38;5;250m\u001b[39m\u001b[38;5;124;03m\"\"\"\u001b[39;00m\n\u001b[0;32m   3378\u001b[0m \u001b[38;5;124;03mShow a figure using either the default renderer(s) or the renderer(s)\u001b[39;00m\n\u001b[0;32m   3379\u001b[0m \u001b[38;5;124;03mspecified by the renderer argument\u001b[39;00m\n\u001b[1;32m   (...)\u001b[0m\n\u001b[0;32m   3406\u001b[0m \u001b[38;5;124;03mNone\u001b[39;00m\n\u001b[0;32m   3407\u001b[0m \u001b[38;5;124;03m\"\"\"\u001b[39;00m\n\u001b[0;32m   3408\u001b[0m \u001b[38;5;28;01mimport\u001b[39;00m\u001b[38;5;250m \u001b[39m\u001b[38;5;21;01mplotly\u001b[39;00m\u001b[38;5;21;01m.\u001b[39;00m\u001b[38;5;21;01mio\u001b[39;00m\u001b[38;5;250m \u001b[39m\u001b[38;5;28;01mas\u001b[39;00m\u001b[38;5;250m \u001b[39m\u001b[38;5;21;01mpio\u001b[39;00m\n\u001b[1;32m-> 3410\u001b[0m \u001b[38;5;28;01mreturn\u001b[39;00m \u001b[43mpio\u001b[49m\u001b[38;5;241;43m.\u001b[39;49m\u001b[43mshow\u001b[49m\u001b[43m(\u001b[49m\u001b[38;5;28;43mself\u001b[39;49m\u001b[43m,\u001b[49m\u001b[43m \u001b[49m\u001b[38;5;241;43m*\u001b[39;49m\u001b[43margs\u001b[49m\u001b[43m,\u001b[49m\u001b[43m \u001b[49m\u001b[38;5;241;43m*\u001b[39;49m\u001b[38;5;241;43m*\u001b[39;49m\u001b[43mkwargs\u001b[49m\u001b[43m)\u001b[49m\n",
      "File \u001b[1;32mc:\\Users\\Study.LEON\\AppData\\Local\\Programs\\Python\\Python313\\Lib\\site-packages\\plotly\\io\\_renderers.py:394\u001b[0m, in \u001b[0;36mshow\u001b[1;34m(fig, renderer, validate, **kwargs)\u001b[0m\n\u001b[0;32m    389\u001b[0m         \u001b[38;5;28;01mraise\u001b[39;00m \u001b[38;5;167;01mValueError\u001b[39;00m(\n\u001b[0;32m    390\u001b[0m             \u001b[38;5;124m\"\u001b[39m\u001b[38;5;124mMime type rendering requires ipython but it is not installed\u001b[39m\u001b[38;5;124m\"\u001b[39m\n\u001b[0;32m    391\u001b[0m         )\n\u001b[0;32m    393\u001b[0m     \u001b[38;5;28;01mif\u001b[39;00m \u001b[38;5;129;01mnot\u001b[39;00m nbformat \u001b[38;5;129;01mor\u001b[39;00m Version(nbformat\u001b[38;5;241m.\u001b[39m__version__) \u001b[38;5;241m<\u001b[39m Version(\u001b[38;5;124m\"\u001b[39m\u001b[38;5;124m4.2.0\u001b[39m\u001b[38;5;124m\"\u001b[39m):\n\u001b[1;32m--> 394\u001b[0m         \u001b[38;5;28;01mraise\u001b[39;00m \u001b[38;5;167;01mValueError\u001b[39;00m(\n\u001b[0;32m    395\u001b[0m             \u001b[38;5;124m\"\u001b[39m\u001b[38;5;124mMime type rendering requires nbformat>=4.2.0 but it is not installed\u001b[39m\u001b[38;5;124m\"\u001b[39m\n\u001b[0;32m    396\u001b[0m         )\n\u001b[0;32m    398\u001b[0m     ipython_display\u001b[38;5;241m.\u001b[39mdisplay(bundle, raw\u001b[38;5;241m=\u001b[39m\u001b[38;5;28;01mTrue\u001b[39;00m)\n\u001b[0;32m    400\u001b[0m \u001b[38;5;66;03m# external renderers\u001b[39;00m\n",
      "\u001b[1;31mValueError\u001b[0m: Mime type rendering requires nbformat>=4.2.0 but it is not installed"
     ]
    }
   ],
   "source": [
    "# -------SIMULATION OF BM AND Varsicek MODEL------- \n",
    "\n",
    "r0 = 4.30        # Initial stock price\n",
    "T = 1           # Time to maturity (years)\n",
    "a= 1.0 # speed of reversion parameter\n",
    "b= 3.50  # Volatility of volatility\n",
    "paths = 100000  # Number of simulations\n",
    "sigma = 0.2     # Constant volatility for BM\n",
    "\n",
    "# Simulation of varsicek Model and BM\n",
    "r_varsicek = varsicek(r0,a,b,T,sigma, paths)\n",
    "S_BM = BM(r0,a,b,T,sigma, paths)\n",
    "# -------OPTION PRICING AND VOLATILITY SMILE-------\n",
    "\n",
    "\n",
    "\n",
    "\n",
    "# Time axis\n",
    "time = np.linspace(0, T, r_varsicek.shape[0])\n",
    "\n",
    "# Plot Vasicek Model\n",
    "fig_varsicek = go.Figure()\n",
    "for i in range(10):  # Plot only the first 10 paths for clarity\n",
    "    fig_varsicek.add_trace(go.Scatter(\n",
    "        x=time,\n",
    "        y=r_varsicek[:, i],\n",
    "        mode='lines',\n",
    "        name=f'Path {i+1}'\n",
    "    ))\n",
    "fig_varsicek.update_layout(\n",
    "    title='Vasicek Model: Simulated Interest Rate Paths',\n",
    "    xaxis_title='Time (Years)',\n",
    "    yaxis_title='Interest Rate',\n",
    "    showlegend=True\n",
    ")\n",
    "fig_varsicek.show()\n",
    "\n",
    "# Plot GBM\n",
    "fig_gbm = go.Figure()\n",
    "for i in range(10):  # Plot only the first 10 paths for clarity\n",
    "    fig_gbm.add_trace(go.Scatter(\n",
    "        x=time,\n",
    "        y=S_GBM[:, i],\n",
    "        mode='lines',\n",
    "        name=f'Path {i+1}'\n",
    "    ))\n",
    "fig_gbm.update_layout(\n",
    "    title='Geometric Brownian Motion: Simulated Asset Price Paths',\n",
    "    xaxis_title='Time (Years)',\n",
    "    yaxis_title='Asset Price',\n",
    "    showlegend=True\n",
    ")\n",
    "fig_gbm.show()"
   ]
  },
  {
   "cell_type": "code",
   "execution_count": 5,
   "metadata": {},
   "outputs": [],
   "source": [
    "# Brownian Motion PDF (log prices)\n",
    "def GBMpdf(x, S0, r, sigma, T):\n",
    "\n",
    "    loc = np.log(S0) + (r - 0.5 * sigma**2)*T\n",
    "    scale = sigma * np.sqrt(T)\n",
    "    pdf = norm.pdf(x, loc, scale)\n",
    "    \n",
    "    return pdf\n",
    "\n",
    "# Heston PDF (log_prices)\n",
    "def HestonPDF(x, S_T):\n",
    "    kde = gaussian_kde(np.log(S_T))\n",
    "    pdf = kde(x)\n",
    "    return pdf"
   ]
  },
  {
   "cell_type": "code",
   "execution_count": 6,
   "metadata": {},
   "outputs": [],
   "source": [
    "# Put option price (monte carlo approach)\n",
    "def put_option_price(S_T, K, r, T):\n",
    "    payoffs = np.maximum(K - S_T, 0)\n",
    "    return np.mean(payoffs*np.exp(-r*T))\n",
    "\n",
    "# Put option price (Black-Scholes approach)\n",
    "def bs_put_price(S0, K, T, r, sigma):\n",
    "    d1 = (np.log(S0 / K) + (r + 0.5 * sigma**2) * T) / (sigma * np.sqrt(T))\n",
    "    d2 = d1 - sigma * np.sqrt(T)\n",
    "    return K * np.exp(-r * T) * norm.cdf(-d2) - S0 * norm.cdf(-d1)\n"
   ]
  },
  {
   "cell_type": "code",
   "execution_count": 7,
   "metadata": {},
   "outputs": [],
   "source": [
    "# Implied volatility calculation\n",
    "def implied_vol(S0, K, T, r, option_price, tol=1e-5, max_iter=100):\n",
    "    sigma = 0.2\n",
    "    \n",
    "    for _ in range(max_iter):\n",
    "        price = bs_put_price(S0, K, T, r, sigma)\n",
    "        vega = S0 * norm.pdf((np.log(S0 / K) + (r + 0.5 * sigma**2) * T) / (sigma * np.sqrt(T))) * np.sqrt(T)\n",
    "        diff = price - option_price\n",
    "\n",
    "        if abs(diff) < tol:\n",
    "            return sigma\n",
    "        sigma -= diff / vega\n",
    "\n",
    "    return sigma"
   ]
  }
 ],
 "metadata": {
  "kernelspec": {
   "display_name": "Python 3",
   "language": "python",
   "name": "python3"
  },
  "language_info": {
   "codemirror_mode": {
    "name": "ipython",
    "version": 3
   },
   "file_extension": ".py",
   "mimetype": "text/x-python",
   "name": "python",
   "nbconvert_exporter": "python",
   "pygments_lexer": "ipython3",
   "version": "3.13.0"
  }
 },
 "nbformat": 4,
 "nbformat_minor": 2
}
