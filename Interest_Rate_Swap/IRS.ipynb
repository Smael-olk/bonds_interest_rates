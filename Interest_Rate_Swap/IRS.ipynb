{
 "cells": [
  {
   "cell_type": "markdown",
   "metadata": {},
   "source": [
    "## Bonds and Interest rates\n",
    "Ismael Oulkhir\n",
    "\n",
    "\n",
    "Mail: oulkhir.ismael@gmail.com\n",
    "\n",
    "LinkedIn: https://www.linkedin.com/in/ismail-oulkhir/\n"
   ]
  },
  {
   "cell_type": "markdown",
   "metadata": {},
   "source": [
    "We assume that, for every fixed T > 0, the forward rate $f (·,T)$ has a stochastic differential which under the objective measure P is given by : \n",
    "\n",
    "$df(t,T) = α(t,T)dt + σ(t,T)dW_{t}^{P} $ <br>\n",
    "$ f(0, T ) = f^*(0, T ),$\n",
    "\n",
    "Having the initial condition as the observed bond prices at t=0 allows to directly have a perfect fit between theoretical model and observed forward curve."
   ]
  },
  {
   "cell_type": "code",
   "execution_count": 1,
   "metadata": {},
   "outputs": [],
   "source": [
    "import numpy as np\n",
    "import math as sqrt\n",
    "import random as std"
   ]
  },
  {
   "cell_type": "markdown",
   "metadata": {},
   "source": [
    "\n",
    "## Libor Market Model"
   ]
  },
  {
   "cell_type": "markdown",
   "metadata": {},
   "source": [
    "The LIBOR Market Model describes the evolution of forward rates under the risk-neutral measure. The dynamics of the forward rate Fk(t)Fk​(t) (for the period $[Tk,Tk+1]$ are given by :\n",
    "\n",
    "$dF_k(t)=μ_k​(t)F_k(t)dt+σ_k​(t)F_k​(t)dW_t​$\n",
    "\n",
    "- $μ_k​(t)$ : Drift term (ensures no-arbitrage).\n",
    "- $σ_k(t)$ : Volatility of the forward rate.\n",
    "- $dWt$ : Wiener process (randomness).\n",
    "\n"
   ]
  },
  {
   "cell_type": "code",
   "execution_count": 10,
   "metadata": {},
   "outputs": [],
   "source": [
    "import numpy as np\n",
    "\n",
    "def one_factor_LIBOR_Market_Model(time_step, maturity, zero_curve, forward_rate_volatilities, N):\n",
    "    # Calculate the number of steps\n",
    "    steps = int(maturity / time_step) + 1\n",
    "\n",
    "    # Ensure zero_curve and forward_rate_volatilities have the correct length\n",
    "    if len(zero_curve) < steps:\n",
    "        raise ValueError(\"zero_curve must have at least `steps` elements.\")\n",
    "    if len(forward_rate_volatilities) < steps - 1:\n",
    "        raise ValueError(\"forward_rate_volatilities must have at least `steps - 1` elements.\")\n",
    "\n",
    "    # Time grid\n",
    "    t = np.zeros(steps)\n",
    "    time = 0\n",
    "    for i in range(steps):\n",
    "        t[i] = time\n",
    "        time += time_step\n",
    "\n",
    "    # Time step array\n",
    "    Delta = np.full((steps - 1), time_step)\n",
    "\n",
    "    # Zero-coupon bond prices\n",
    "    B_0 = np.zeros(steps)\n",
    "    for i in range(steps):\n",
    "        B_0[i] = 1 / (1 + zero_curve[i]) ** (i + 1)\n",
    "\n",
    "    # Initial forward rates from zero-coupon bond prices\n",
    "    forward_rate_from_zero = np.zeros((steps - 1, steps - 1))\n",
    "    for i in range(steps - 1):\n",
    "        forward_rate_from_zero[i][0] = (1 / Delta[i]) * (B_0[i] / B_0[i + 1] - 1)\n",
    "\n",
    "    # Monte Carlo simulation\n",
    "    forward_rate_mc = np.zeros((steps - 1, steps - 1))\n",
    "    for n in range(N):\n",
    "        forward_rate = np.zeros((steps - 1, steps - 1))\n",
    "        for i in range(steps - 1):\n",
    "            forward_rate[i][0] = forward_rate_from_zero[i][0]\n",
    "        for k in range(1, steps - 1):\n",
    "            for j in range(k):\n",
    "                sum1 = 0\n",
    "                for i in range(j + 1, k + 1):\n",
    "                    sum1 += (\n",
    "                        Delta[i] * forward_rate[i][j] * forward_rate_volatilities[i - j - 1] * forward_rate_volatilities[k - j - 1]\n",
    "                    ) / (1 + Delta[i] * forward_rate[i][j])\n",
    "                e = np.random.standard_normal()\n",
    "                forward_rate[k][j + 1] = forward_rate[k][j] * np.exp(\n",
    "                    (sum1 - forward_rate_volatilities[k - j - 1] ** 2 / 2) * Delta[j] + forward_rate_volatilities[k - j - 1] * e * np.sqrt(Delta[j])\n",
    "                )\n",
    "        forward_rate_mc += forward_rate\n",
    "\n",
    "    # Average across all paths\n",
    "    forward_rate_mc = forward_rate_mc / N\n",
    "    return forward_rate_mc"
   ]
  },
  {
   "cell_type": "code",
   "execution_count": null,
   "metadata": {},
   "outputs": [],
   "source": [
    "# Input data\n",
    "zero_curve = np.array([0.0074, 0.0074, 0.0077, 0.0082, 0.0088, 0.0094, 0.0101, 0.0108, 0.0116, 0.0123, 0.0131])\n",
    "forward_rate_volatilities = np.array([0.155, 0.20636739, 0.17209861, 0.17219933, 0.1524579, 0.14147795, 0.12977111, 0.13810532, 0.13595499, 0.13398418])\n",
    "\n",
    "# Parameters\n",
    "time_step = 0.25  # Quarterly time step\n",
    "maturity = len(zero_curve) * time_step  # Total maturity\n",
    "N = 1000  # Number of Monte Carlo paths\n",
    "\n",
    "# Run the simulation\n",
    "simulated_forward_rates = one_factor_LIBOR_Market_Model(time_step, maturity, zero_curve, forward_rate_volatilities, N)\n",
    "\n",
    "# Print the results\n",
    "print(\"Simulated Forward Rates:\")\n",
    "print(simulated_forward_rates)"
   ]
  }
 ],
 "metadata": {
  "kernelspec": {
   "display_name": "Python 3",
   "language": "python",
   "name": "python3"
  },
  "language_info": {
   "codemirror_mode": {
    "name": "ipython",
    "version": 3
   },
   "file_extension": ".py",
   "mimetype": "text/x-python",
   "name": "python",
   "nbconvert_exporter": "python",
   "pygments_lexer": "ipython3",
   "version": "3.13.0"
  }
 },
 "nbformat": 4,
 "nbformat_minor": 2
}
